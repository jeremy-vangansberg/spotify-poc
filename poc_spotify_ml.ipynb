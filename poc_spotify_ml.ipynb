{
 "cells": [
  {
   "cell_type": "code",
   "execution_count": 186,
   "metadata": {},
   "outputs": [],
   "source": [
    "import requests\n",
    "import base64\n",
    "import json\n",
    "from secrets import *\n",
    "import csv\n",
    "import pandas as pd\n",
    "from dotenv import load_dotenv\n",
    "import os\n",
    "\n",
    "load_dotenv()\n",
    "ID = os.getenv('ID')\n",
    "PSW = os.getenv('PSW')\n",
    "\n",
    "# Step 1 - Authorization \n",
    "url = \"https://accounts.spotify.com/api/token\"\n",
    "headers = {}\n",
    "data = {}\n",
    "\n",
    "# Encode as Base64\n",
    "message = f\"{ID}:{PSW}\"\n",
    "messageBytes = message.encode('ascii')\n",
    "base64Bytes = base64.b64encode(messageBytes)\n",
    "base64Message = base64Bytes.decode('ascii')\n",
    "\n",
    "\n",
    "headers['Authorization'] = f\"Basic {base64Message}\"\n",
    "data['grant_type'] = \"client_credentials\"\n",
    "\n",
    "r = requests.post(url, headers=headers, data=data)\n",
    "\n",
    "token = r.json()['access_token']\n"
   ]
  },
  {
   "cell_type": "code",
   "execution_count": 187,
   "metadata": {},
   "outputs": [],
   "source": [
    "def query_data(params='genre:rock year:2022', offset=0):\n",
    "\n",
    "    search_url = f\"https://api.spotify.com/v1/search\"\n",
    "\n",
    "    headers = {\n",
    "        \"Authorization\": \"Bearer \" + token\n",
    "    }\n",
    "\n",
    "    data = {\n",
    "        'q' : params,\n",
    "        'type': 'track',\n",
    "        'limit': '50',\n",
    "        'offset': str(offset),\n",
    "        'market' :'US'\n",
    "    }\n",
    "\n",
    "    res = requests.get(url=search_url, headers=headers, params=data)\n",
    "    items = res.json()['tracks']['items']\n",
    "\n",
    "    ids = []\n",
    "    pops = []\n",
    "    names = []\n",
    "\n",
    "    for item in items :\n",
    "        ids.append(item['id'])\n",
    "        names.append(item['name'])\n",
    "        pops.append(item['popularity'])\n",
    "\n",
    "    return ids, pops, names\n",
    "\n",
    "    "
   ]
  },
  {
   "cell_type": "code",
   "execution_count": 188,
   "metadata": {},
   "outputs": [],
   "source": [
    "offset = 0\n",
    "ids = []\n",
    "pops = []\n",
    "names = []\n",
    "\n",
    "while offset < 950 :\n",
    "    offset += 50\n",
    "    ids_t, pops_t, names_t = query_data(params='genre:rock year:2022', offset=offset)\n",
    "    ids = ids + ids_t\n",
    "    pops = pops + pops_t\n",
    "    names = names + names_t"
   ]
  },
  {
   "cell_type": "code",
   "execution_count": 189,
   "metadata": {},
   "outputs": [],
   "source": [
    "df = pd.DataFrame({'id' : ids, 'popularity' : pops, 'names': names}, index=range(len(ids)))"
   ]
  },
  {
   "cell_type": "code",
   "execution_count": 190,
   "metadata": {},
   "outputs": [
    {
     "data": {
      "text/html": [
       "<div>\n",
       "<style scoped>\n",
       "    .dataframe tbody tr th:only-of-type {\n",
       "        vertical-align: middle;\n",
       "    }\n",
       "\n",
       "    .dataframe tbody tr th {\n",
       "        vertical-align: top;\n",
       "    }\n",
       "\n",
       "    .dataframe thead th {\n",
       "        text-align: right;\n",
       "    }\n",
       "</style>\n",
       "<table border=\"1\" class=\"dataframe\">\n",
       "  <thead>\n",
       "    <tr style=\"text-align: right;\">\n",
       "      <th></th>\n",
       "      <th>id</th>\n",
       "      <th>popularity</th>\n",
       "      <th>names</th>\n",
       "    </tr>\n",
       "  </thead>\n",
       "  <tbody>\n",
       "    <tr>\n",
       "      <th>0</th>\n",
       "      <td>3qhlB30KknSejmIvZZLjOD</td>\n",
       "      <td>61</td>\n",
       "      <td>End of Beginning</td>\n",
       "    </tr>\n",
       "    <tr>\n",
       "      <th>1</th>\n",
       "      <td>0sBJA2OCEECMs0HsdIQhvR</td>\n",
       "      <td>69</td>\n",
       "      <td>West Coast</td>\n",
       "    </tr>\n",
       "    <tr>\n",
       "      <th>2</th>\n",
       "      <td>0uBdQzKghx88d2Lp8SLFKJ</td>\n",
       "      <td>67</td>\n",
       "      <td>I'm In Love With You</td>\n",
       "    </tr>\n",
       "    <tr>\n",
       "      <th>3</th>\n",
       "      <td>4xAmbn7xiy6wGOs4oaxv70</td>\n",
       "      <td>64</td>\n",
       "      <td>Call Me Little Sunshine</td>\n",
       "    </tr>\n",
       "    <tr>\n",
       "      <th>4</th>\n",
       "      <td>7JIIY2oDPFkURYMCLJuzhe</td>\n",
       "      <td>65</td>\n",
       "      <td>Elliot's Song - From \"Euphoria\" An HBO Origina...</td>\n",
       "    </tr>\n",
       "    <tr>\n",
       "      <th>...</th>\n",
       "      <td>...</td>\n",
       "      <td>...</td>\n",
       "      <td>...</td>\n",
       "    </tr>\n",
       "    <tr>\n",
       "      <th>945</th>\n",
       "      <td>6UqbBLltlDQ7ozlRswVWeu</td>\n",
       "      <td>54</td>\n",
       "      <td>Los Hombres No Deben Llorar</td>\n",
       "    </tr>\n",
       "    <tr>\n",
       "      <th>946</th>\n",
       "      <td>1sJYOOldqYLjwIVPLXt2Fl</td>\n",
       "      <td>42</td>\n",
       "      <td>Hung The Moon</td>\n",
       "    </tr>\n",
       "    <tr>\n",
       "      <th>947</th>\n",
       "      <td>6r4jouSQy2Hl77pwMwChcM</td>\n",
       "      <td>41</td>\n",
       "      <td>Thank You</td>\n",
       "    </tr>\n",
       "    <tr>\n",
       "      <th>948</th>\n",
       "      <td>7m3Lu7PUKNDJ2HgvrAKME9</td>\n",
       "      <td>41</td>\n",
       "      <td>Silence Is Golden</td>\n",
       "    </tr>\n",
       "    <tr>\n",
       "      <th>949</th>\n",
       "      <td>2o7pJCFJjWEvPiRipdRFe7</td>\n",
       "      <td>44</td>\n",
       "      <td>Up</td>\n",
       "    </tr>\n",
       "  </tbody>\n",
       "</table>\n",
       "<p>950 rows × 3 columns</p>\n",
       "</div>"
      ],
      "text/plain": [
       "                         id  popularity  \\\n",
       "0    3qhlB30KknSejmIvZZLjOD          61   \n",
       "1    0sBJA2OCEECMs0HsdIQhvR          69   \n",
       "2    0uBdQzKghx88d2Lp8SLFKJ          67   \n",
       "3    4xAmbn7xiy6wGOs4oaxv70          64   \n",
       "4    7JIIY2oDPFkURYMCLJuzhe          65   \n",
       "..                      ...         ...   \n",
       "945  6UqbBLltlDQ7ozlRswVWeu          54   \n",
       "946  1sJYOOldqYLjwIVPLXt2Fl          42   \n",
       "947  6r4jouSQy2Hl77pwMwChcM          41   \n",
       "948  7m3Lu7PUKNDJ2HgvrAKME9          41   \n",
       "949  2o7pJCFJjWEvPiRipdRFe7          44   \n",
       "\n",
       "                                                 names  \n",
       "0                                     End of Beginning  \n",
       "1                                           West Coast  \n",
       "2                                 I'm In Love With You  \n",
       "3                              Call Me Little Sunshine  \n",
       "4    Elliot's Song - From \"Euphoria\" An HBO Origina...  \n",
       "..                                                 ...  \n",
       "945                        Los Hombres No Deben Llorar  \n",
       "946                                      Hung The Moon  \n",
       "947                                          Thank You  \n",
       "948                                  Silence Is Golden  \n",
       "949                                                 Up  \n",
       "\n",
       "[950 rows x 3 columns]"
      ]
     },
     "execution_count": 190,
     "metadata": {},
     "output_type": "execute_result"
    }
   ],
   "source": [
    "df"
   ]
  },
  {
   "cell_type": "code",
   "execution_count": 191,
   "metadata": {},
   "outputs": [],
   "source": [
    "def get_features(ids_list=ids): \n",
    "    \n",
    "    headers = {\n",
    "    \"Authorization\": \"Bearer \" + token\n",
    "    }\n",
    "    danceability_list = []\n",
    "    energy_list = []\n",
    "    acousticness_list = []\n",
    "    tempo_list = []\n",
    "    for id_unique in ids :\n",
    "        featurers_url = f\"https://api.spotify.com/v1/audio-features/{id_unique}\"\n",
    "        data = {'id' : id_unique}\n",
    "        res = requests.get(url=featurers_url, headers=headers, params=data)\n",
    "        items = res.json()\n",
    "        danceability_list.append(items.get('danceability'))\n",
    "        energy_list.append(items.get('energy'))\n",
    "        acousticness_list.append(items.get('acousticness'))\n",
    "        tempo_list.append(items.get('tempo'))\n",
    "    return danceability_list, energy_list, acousticness_list ,tempo_list"
   ]
  },
  {
   "cell_type": "code",
   "execution_count": 192,
   "metadata": {},
   "outputs": [],
   "source": [
    "danceability_list, energy_list, acousticnes_list ,tempo_list = get_features(ids_list=ids)"
   ]
  },
  {
   "cell_type": "code",
   "execution_count": 193,
   "metadata": {},
   "outputs": [],
   "source": [
    "df['danceability'] = danceability_list\n",
    "df['energy'] = energy_list\n",
    "df['acousticness'] = acousticnes_list\n",
    "df['tempo'] = tempo_list"
   ]
  },
  {
   "cell_type": "code",
   "execution_count": 194,
   "metadata": {},
   "outputs": [],
   "source": [
    "df = df.dropna()"
   ]
  },
  {
   "cell_type": "code",
   "execution_count": 195,
   "metadata": {},
   "outputs": [
    {
     "data": {
      "text/html": [
       "<style>#sk-container-id-7 {color: black;background-color: white;}#sk-container-id-7 pre{padding: 0;}#sk-container-id-7 div.sk-toggleable {background-color: white;}#sk-container-id-7 label.sk-toggleable__label {cursor: pointer;display: block;width: 100%;margin-bottom: 0;padding: 0.3em;box-sizing: border-box;text-align: center;}#sk-container-id-7 label.sk-toggleable__label-arrow:before {content: \"▸\";float: left;margin-right: 0.25em;color: #696969;}#sk-container-id-7 label.sk-toggleable__label-arrow:hover:before {color: black;}#sk-container-id-7 div.sk-estimator:hover label.sk-toggleable__label-arrow:before {color: black;}#sk-container-id-7 div.sk-toggleable__content {max-height: 0;max-width: 0;overflow: hidden;text-align: left;background-color: #f0f8ff;}#sk-container-id-7 div.sk-toggleable__content pre {margin: 0.2em;color: black;border-radius: 0.25em;background-color: #f0f8ff;}#sk-container-id-7 input.sk-toggleable__control:checked~div.sk-toggleable__content {max-height: 200px;max-width: 100%;overflow: auto;}#sk-container-id-7 input.sk-toggleable__control:checked~label.sk-toggleable__label-arrow:before {content: \"▾\";}#sk-container-id-7 div.sk-estimator input.sk-toggleable__control:checked~label.sk-toggleable__label {background-color: #d4ebff;}#sk-container-id-7 div.sk-label input.sk-toggleable__control:checked~label.sk-toggleable__label {background-color: #d4ebff;}#sk-container-id-7 input.sk-hidden--visually {border: 0;clip: rect(1px 1px 1px 1px);clip: rect(1px, 1px, 1px, 1px);height: 1px;margin: -1px;overflow: hidden;padding: 0;position: absolute;width: 1px;}#sk-container-id-7 div.sk-estimator {font-family: monospace;background-color: #f0f8ff;border: 1px dotted black;border-radius: 0.25em;box-sizing: border-box;margin-bottom: 0.5em;}#sk-container-id-7 div.sk-estimator:hover {background-color: #d4ebff;}#sk-container-id-7 div.sk-parallel-item::after {content: \"\";width: 100%;border-bottom: 1px solid gray;flex-grow: 1;}#sk-container-id-7 div.sk-label:hover label.sk-toggleable__label {background-color: #d4ebff;}#sk-container-id-7 div.sk-serial::before {content: \"\";position: absolute;border-left: 1px solid gray;box-sizing: border-box;top: 0;bottom: 0;left: 50%;z-index: 0;}#sk-container-id-7 div.sk-serial {display: flex;flex-direction: column;align-items: center;background-color: white;padding-right: 0.2em;padding-left: 0.2em;position: relative;}#sk-container-id-7 div.sk-item {position: relative;z-index: 1;}#sk-container-id-7 div.sk-parallel {display: flex;align-items: stretch;justify-content: center;background-color: white;position: relative;}#sk-container-id-7 div.sk-item::before, #sk-container-id-7 div.sk-parallel-item::before {content: \"\";position: absolute;border-left: 1px solid gray;box-sizing: border-box;top: 0;bottom: 0;left: 50%;z-index: -1;}#sk-container-id-7 div.sk-parallel-item {display: flex;flex-direction: column;z-index: 1;position: relative;background-color: white;}#sk-container-id-7 div.sk-parallel-item:first-child::after {align-self: flex-end;width: 50%;}#sk-container-id-7 div.sk-parallel-item:last-child::after {align-self: flex-start;width: 50%;}#sk-container-id-7 div.sk-parallel-item:only-child::after {width: 0;}#sk-container-id-7 div.sk-dashed-wrapped {border: 1px dashed gray;margin: 0 0.4em 0.5em 0.4em;box-sizing: border-box;padding-bottom: 0.4em;background-color: white;}#sk-container-id-7 div.sk-label label {font-family: monospace;font-weight: bold;display: inline-block;line-height: 1.2em;}#sk-container-id-7 div.sk-label-container {text-align: center;}#sk-container-id-7 div.sk-container {/* jupyter's `normalize.less` sets `[hidden] { display: none; }` but bootstrap.min.css set `[hidden] { display: none !important; }` so we also need the `!important` here to be able to override the default hidden behavior on the sphinx rendered scikit-learn.org. See: https://github.com/scikit-learn/scikit-learn/issues/21755 */display: inline-block !important;position: relative;}#sk-container-id-7 div.sk-text-repr-fallback {display: none;}</style><div id=\"sk-container-id-7\" class=\"sk-top-container\"><div class=\"sk-text-repr-fallback\"><pre>LinearRegression()</pre><b>In a Jupyter environment, please rerun this cell to show the HTML representation or trust the notebook. <br />On GitHub, the HTML representation is unable to render, please try loading this page with nbviewer.org.</b></div><div class=\"sk-container\" hidden><div class=\"sk-item\"><div class=\"sk-estimator sk-toggleable\"><input class=\"sk-toggleable__control sk-hidden--visually\" id=\"sk-estimator-id-7\" type=\"checkbox\" checked><label for=\"sk-estimator-id-7\" class=\"sk-toggleable__label sk-toggleable__label-arrow\">LinearRegression</label><div class=\"sk-toggleable__content\"><pre>LinearRegression()</pre></div></div></div></div></div>"
      ],
      "text/plain": [
       "LinearRegression()"
      ]
     },
     "execution_count": 195,
     "metadata": {},
     "output_type": "execute_result"
    }
   ],
   "source": [
    "from sklearn.linear_model import LinearRegression\n",
    "\n",
    "from sklearn.model_selection import train_test_split\n",
    "\n",
    "lr = LinearRegression()\n",
    "\n",
    "X = df[['danceability','energy', 'acousticness', 'tempo']]\n",
    "y = df['popularity']\n",
    "\n",
    "X_train, X_test, y_train, y_test = train_test_split(X, y, train_size=0.7)\n",
    "\n",
    "\n",
    "lr.fit(X_train,y_train)"
   ]
  },
  {
   "cell_type": "code",
   "execution_count": 196,
   "metadata": {},
   "outputs": [
    {
     "data": {
      "text/plain": [
       "0.005945952270670962"
      ]
     },
     "execution_count": 196,
     "metadata": {},
     "output_type": "execute_result"
    }
   ],
   "source": [
    "lr.score(X_test,y_test)"
   ]
  },
  {
   "cell_type": "code",
   "execution_count": 197,
   "metadata": {},
   "outputs": [],
   "source": [
    "ids_60, pops_60, names_60 = query_data(params='genre:rock year:1960')"
   ]
  },
  {
   "cell_type": "code",
   "execution_count": 198,
   "metadata": {},
   "outputs": [
    {
     "ename": "ValueError",
     "evalue": "too many values to unpack (expected 2)",
     "output_type": "error",
     "traceback": [
      "\u001b[0;31m---------------------------------------------------------------------------\u001b[0m",
      "\u001b[0;31mValueError\u001b[0m                                Traceback (most recent call last)",
      "Cell \u001b[0;32mIn[198], line 1\u001b[0m\n\u001b[0;32m----> 1\u001b[0m danceability_list, energy_list \u001b[39m=\u001b[39m get_features(ids_list\u001b[39m=\u001b[39mids_60)\n",
      "\u001b[0;31mValueError\u001b[0m: too many values to unpack (expected 2)"
     ]
    }
   ],
   "source": [
    "danceability_list, energy_list = get_features(ids_list=ids_60)"
   ]
  },
  {
   "cell_type": "code",
   "execution_count": null,
   "metadata": {},
   "outputs": [],
   "source": [
    "df_60 = pd.DataFrame({'names': names, 'popularity' : pops_60, 'danceability' : danceability_list, 'energy' : energy_list}, index=range(len(ids)))"
   ]
  },
  {
   "cell_type": "code",
   "execution_count": null,
   "metadata": {},
   "outputs": [],
   "source": [
    "X_test = df_60[['danceability', 'energy', 'names']].set_index('names')\n",
    "y_test = df_60[['popularity', 'names']].set_index('names')"
   ]
  },
  {
   "cell_type": "code",
   "execution_count": null,
   "metadata": {},
   "outputs": [],
   "source": [
    "pred = lr.predict(X_test)"
   ]
  },
  {
   "cell_type": "code",
   "execution_count": null,
   "metadata": {},
   "outputs": [],
   "source": [
    "X_test['pred'] = pred"
   ]
  },
  {
   "cell_type": "code",
   "execution_count": null,
   "metadata": {},
   "outputs": [
    {
     "data": {
      "text/plain": [
       "names\n",
       "I Ain't Worried                                                70.979221\n",
       "She Had Me At Heads Carolina                                   68.771406\n",
       "Bones                                                          72.349264\n",
       "About You                                                      67.239440\n",
       "Bones                                                          72.275538\n",
       "We Got History                                                 69.654018\n",
       "Fancy Like                                                     70.426574\n",
       "Your Heart Or Mine                                             70.704323\n",
       "Hold Me Closer                                                 70.816642\n",
       "Enemy (with JID) - from the series Arcane League of Legends    71.417388\n",
       "THE LONELIEST                                                  69.919523\n",
       "Worth A Shot (feat. Dierks Bentley)                            68.805338\n",
       "Thinking 'Bout You (feat. MacKenzie Porter)                    67.440239\n",
       "Voices In My Head                                              68.028562\n",
       "Way Down Yonder                                                67.654277\n",
       "Oh Caroline                                                    69.776974\n",
       "Out In The Middle                                              67.843580\n",
       "I'm In Love With You                                           69.693744\n",
       "ZOMBIFIED                                                      67.903548\n",
       "Last Night Lonely                                              70.137058\n",
       "Note to Self                                                   70.993736\n",
       "Lux Æterna                                                     65.072551\n",
       "You, Me, And Whiskey                                           68.288230\n",
       "sail away                                                      71.236899\n",
       "sTraNgeRs                                                      64.943078\n",
       "Jump Around - 30 Years Remaster                                72.271454\n",
       "Mary On A Cross                                                66.915959\n",
       "The Rumbling                                                   66.969341\n",
       "Wet Dream                                                      71.933398\n",
       "The DJ Is Crying For Help                                      69.840582\n",
       "Happiness                                                      69.587942\n",
       "Looking For Somebody (To Love)                                 67.253845\n",
       "Stars Like Confetti                                            69.277912\n",
       "Y'all Life                                                     69.930635\n",
       "Love Ain't                                                     69.051282\n",
       "EDGING                                                         68.809864\n",
       "I Won't                                                        67.643334\n",
       "Sleepwalking                                                   67.948906\n",
       "So Called Life                                                 67.376630\n",
       "Up Down                                                        68.709346\n",
       "Take Me Away                                                   66.851567\n",
       "Wild Child                                                     71.827425\n",
       "Last Night Lonely                                              70.031256\n",
       "Supernatural                                                   68.875975\n",
       "Spillways                                                      68.655862\n",
       "SUPERMODEL                                                     69.443580\n",
       "If I Can Dream                                                 66.326572\n",
       "AA                                                             70.253428\n",
       "Ain't Missin' You                                              69.430545\n",
       "Give Up Baby Go                                                71.435332\n",
       "Name: pred, dtype: float64"
      ]
     },
     "execution_count": 65,
     "metadata": {},
     "output_type": "execute_result"
    }
   ],
   "source": [
    "X_test['pred']"
   ]
  },
  {
   "cell_type": "code",
   "execution_count": null,
   "metadata": {},
   "outputs": [
    {
     "ename": "ValueError",
     "evalue": "The feature names should match those that were passed during fit.\nFeature names unseen at fit time:\n- pred\n",
     "output_type": "error",
     "traceback": [
      "\u001b[0;31m---------------------------------------------------------------------------\u001b[0m",
      "\u001b[0;31mValueError\u001b[0m                                Traceback (most recent call last)",
      "Cell \u001b[0;32mIn[66], line 1\u001b[0m\n\u001b[0;32m----> 1\u001b[0m lr\u001b[39m.\u001b[39;49mscore(X_test, y_test)\n",
      "File \u001b[0;32m~/Documents/projects/spotify/env/lib/python3.9/site-packages/sklearn/base.py:703\u001b[0m, in \u001b[0;36mRegressorMixin.score\u001b[0;34m(self, X, y, sample_weight)\u001b[0m\n\u001b[1;32m    661\u001b[0m \u001b[39m\u001b[39m\u001b[39m\"\"\"Return the coefficient of determination of the prediction.\u001b[39;00m\n\u001b[1;32m    662\u001b[0m \n\u001b[1;32m    663\u001b[0m \u001b[39mThe coefficient of determination :math:`R^2` is defined as\u001b[39;00m\n\u001b[0;32m   (...)\u001b[0m\n\u001b[1;32m    698\u001b[0m \u001b[39m:class:`~sklearn.multioutput.MultiOutputRegressor`).\u001b[39;00m\n\u001b[1;32m    699\u001b[0m \u001b[39m\"\"\"\u001b[39;00m\n\u001b[1;32m    701\u001b[0m \u001b[39mfrom\u001b[39;00m \u001b[39m.\u001b[39;00m\u001b[39mmetrics\u001b[39;00m \u001b[39mimport\u001b[39;00m r2_score\n\u001b[0;32m--> 703\u001b[0m y_pred \u001b[39m=\u001b[39m \u001b[39mself\u001b[39;49m\u001b[39m.\u001b[39;49mpredict(X)\n\u001b[1;32m    704\u001b[0m \u001b[39mreturn\u001b[39;00m r2_score(y, y_pred, sample_weight\u001b[39m=\u001b[39msample_weight)\n",
      "File \u001b[0;32m~/Documents/projects/spotify/env/lib/python3.9/site-packages/sklearn/linear_model/_base.py:354\u001b[0m, in \u001b[0;36mLinearModel.predict\u001b[0;34m(self, X)\u001b[0m\n\u001b[1;32m    340\u001b[0m \u001b[39mdef\u001b[39;00m \u001b[39mpredict\u001b[39m(\u001b[39mself\u001b[39m, X):\n\u001b[1;32m    341\u001b[0m \u001b[39m    \u001b[39m\u001b[39m\"\"\"\u001b[39;00m\n\u001b[1;32m    342\u001b[0m \u001b[39m    Predict using the linear model.\u001b[39;00m\n\u001b[1;32m    343\u001b[0m \n\u001b[0;32m   (...)\u001b[0m\n\u001b[1;32m    352\u001b[0m \u001b[39m        Returns predicted values.\u001b[39;00m\n\u001b[1;32m    353\u001b[0m \u001b[39m    \"\"\"\u001b[39;00m\n\u001b[0;32m--> 354\u001b[0m     \u001b[39mreturn\u001b[39;00m \u001b[39mself\u001b[39;49m\u001b[39m.\u001b[39;49m_decision_function(X)\n",
      "File \u001b[0;32m~/Documents/projects/spotify/env/lib/python3.9/site-packages/sklearn/linear_model/_base.py:337\u001b[0m, in \u001b[0;36mLinearModel._decision_function\u001b[0;34m(self, X)\u001b[0m\n\u001b[1;32m    334\u001b[0m \u001b[39mdef\u001b[39;00m \u001b[39m_decision_function\u001b[39m(\u001b[39mself\u001b[39m, X):\n\u001b[1;32m    335\u001b[0m     check_is_fitted(\u001b[39mself\u001b[39m)\n\u001b[0;32m--> 337\u001b[0m     X \u001b[39m=\u001b[39m \u001b[39mself\u001b[39;49m\u001b[39m.\u001b[39;49m_validate_data(X, accept_sparse\u001b[39m=\u001b[39;49m[\u001b[39m\"\u001b[39;49m\u001b[39mcsr\u001b[39;49m\u001b[39m\"\u001b[39;49m, \u001b[39m\"\u001b[39;49m\u001b[39mcsc\u001b[39;49m\u001b[39m\"\u001b[39;49m, \u001b[39m\"\u001b[39;49m\u001b[39mcoo\u001b[39;49m\u001b[39m\"\u001b[39;49m], reset\u001b[39m=\u001b[39;49m\u001b[39mFalse\u001b[39;49;00m)\n\u001b[1;32m    338\u001b[0m     \u001b[39mreturn\u001b[39;00m safe_sparse_dot(X, \u001b[39mself\u001b[39m\u001b[39m.\u001b[39mcoef_\u001b[39m.\u001b[39mT, dense_output\u001b[39m=\u001b[39m\u001b[39mTrue\u001b[39;00m) \u001b[39m+\u001b[39m \u001b[39mself\u001b[39m\u001b[39m.\u001b[39mintercept_\n",
      "File \u001b[0;32m~/Documents/projects/spotify/env/lib/python3.9/site-packages/sklearn/base.py:529\u001b[0m, in \u001b[0;36mBaseEstimator._validate_data\u001b[0;34m(self, X, y, reset, validate_separately, **check_params)\u001b[0m\n\u001b[1;32m    464\u001b[0m \u001b[39mdef\u001b[39;00m \u001b[39m_validate_data\u001b[39m(\n\u001b[1;32m    465\u001b[0m     \u001b[39mself\u001b[39m,\n\u001b[1;32m    466\u001b[0m     X\u001b[39m=\u001b[39m\u001b[39m\"\u001b[39m\u001b[39mno_validation\u001b[39m\u001b[39m\"\u001b[39m,\n\u001b[0;32m   (...)\u001b[0m\n\u001b[1;32m    470\u001b[0m     \u001b[39m*\u001b[39m\u001b[39m*\u001b[39mcheck_params,\n\u001b[1;32m    471\u001b[0m ):\n\u001b[1;32m    472\u001b[0m \u001b[39m    \u001b[39m\u001b[39m\"\"\"Validate input data and set or check the `n_features_in_` attribute.\u001b[39;00m\n\u001b[1;32m    473\u001b[0m \n\u001b[1;32m    474\u001b[0m \u001b[39m    Parameters\u001b[39;00m\n\u001b[0;32m   (...)\u001b[0m\n\u001b[1;32m    527\u001b[0m \u001b[39m        validated.\u001b[39;00m\n\u001b[1;32m    528\u001b[0m \u001b[39m    \"\"\"\u001b[39;00m\n\u001b[0;32m--> 529\u001b[0m     \u001b[39mself\u001b[39;49m\u001b[39m.\u001b[39;49m_check_feature_names(X, reset\u001b[39m=\u001b[39;49mreset)\n\u001b[1;32m    531\u001b[0m     \u001b[39mif\u001b[39;00m y \u001b[39mis\u001b[39;00m \u001b[39mNone\u001b[39;00m \u001b[39mand\u001b[39;00m \u001b[39mself\u001b[39m\u001b[39m.\u001b[39m_get_tags()[\u001b[39m\"\u001b[39m\u001b[39mrequires_y\u001b[39m\u001b[39m\"\u001b[39m]:\n\u001b[1;32m    532\u001b[0m         \u001b[39mraise\u001b[39;00m \u001b[39mValueError\u001b[39;00m(\n\u001b[1;32m    533\u001b[0m             \u001b[39mf\u001b[39m\u001b[39m\"\u001b[39m\u001b[39mThis \u001b[39m\u001b[39m{\u001b[39;00m\u001b[39mself\u001b[39m\u001b[39m.\u001b[39m\u001b[39m__class__\u001b[39m\u001b[39m.\u001b[39m\u001b[39m__name__\u001b[39m\u001b[39m}\u001b[39;00m\u001b[39m estimator \u001b[39m\u001b[39m\"\u001b[39m\n\u001b[1;32m    534\u001b[0m             \u001b[39m\"\u001b[39m\u001b[39mrequires y to be passed, but the target y is None.\u001b[39m\u001b[39m\"\u001b[39m\n\u001b[1;32m    535\u001b[0m         )\n",
      "File \u001b[0;32m~/Documents/projects/spotify/env/lib/python3.9/site-packages/sklearn/base.py:462\u001b[0m, in \u001b[0;36mBaseEstimator._check_feature_names\u001b[0;34m(self, X, reset)\u001b[0m\n\u001b[1;32m    457\u001b[0m \u001b[39mif\u001b[39;00m \u001b[39mnot\u001b[39;00m missing_names \u001b[39mand\u001b[39;00m \u001b[39mnot\u001b[39;00m unexpected_names:\n\u001b[1;32m    458\u001b[0m     message \u001b[39m+\u001b[39m\u001b[39m=\u001b[39m (\n\u001b[1;32m    459\u001b[0m         \u001b[39m\"\u001b[39m\u001b[39mFeature names must be in the same order as they were in fit.\u001b[39m\u001b[39m\\n\u001b[39;00m\u001b[39m\"\u001b[39m\n\u001b[1;32m    460\u001b[0m     )\n\u001b[0;32m--> 462\u001b[0m \u001b[39mraise\u001b[39;00m \u001b[39mValueError\u001b[39;00m(message)\n",
      "\u001b[0;31mValueError\u001b[0m: The feature names should match those that were passed during fit.\nFeature names unseen at fit time:\n- pred\n"
     ]
    }
   ],
   "source": [
    "lr.score(X_test, y_test)"
   ]
  }
 ],
 "metadata": {
  "kernelspec": {
   "display_name": "env",
   "language": "python",
   "name": "python3"
  },
  "language_info": {
   "codemirror_mode": {
    "name": "ipython",
    "version": 3
   },
   "file_extension": ".py",
   "mimetype": "text/x-python",
   "name": "python",
   "nbconvert_exporter": "python",
   "pygments_lexer": "ipython3",
   "version": "3.9.12"
  },
  "orig_nbformat": 4,
  "vscode": {
   "interpreter": {
    "hash": "fa88b59a0e7407a1a21939f44d8a6272bc3bc8b00afa08b3518a1cb6c8a020f3"
   }
  }
 },
 "nbformat": 4,
 "nbformat_minor": 2
}
